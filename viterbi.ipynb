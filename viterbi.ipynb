{
 "cells": [
  {
   "cell_type": "code",
   "execution_count": 4,
   "id": "e4106a1f-a4aa-415b-9d1a-699ee94ac912",
   "metadata": {},
   "outputs": [],
   "source": [
    "import pickle\n",
    "\n",
    "#Charging needed files\n",
    "\n",
    "with open(\"emission.bin\", \"rb\") as fichier:\n",
    "    emit_p = pickle.load(fichier)\n",
    "\n",
    "with open(\"transmition.bin\", \"rb\") as fichier:\n",
    "    trans_p = pickle.load(fichier)\n",
    "\n",
    "with open(\"starter.bin\", \"rb\") as fichier:\n",
    "    start_p = pickle.load(fichier)\n",
    "\n",
    "with open(\"indice_state.bin\", \"rb\") as fichier:\n",
    "    states = pickle.load(fichier)\n",
    "\n",
    "with open(\"indice_word.bin\", \"rb\") as fichier:\n",
    "    words = pickle.load(fichier)\n",
    "\n",
    "#Inversion of the word array\n",
    "i = 0\n",
    "InvWords= {}\n",
    "for word in words:\n",
    "       InvWords[i] = word\n",
    "       i += 1 "
   ]
  },
  {
   "cell_type": "code",
   "execution_count": 5,
   "id": "179e07ce-eb0c-40da-8542-895d41bbde93",
   "metadata": {},
   "outputs": [],
   "source": [
    "#This function returns the first word of obs and deletes it from obs.\n",
    "def is_Genuine_Word_V2(obs,p, emit_p):\n",
    "    beforeToken = \"\"\n",
    "    beforeIndice = -1\n",
    "    \n",
    "    for i in range(len(emit_p[p])):\n",
    "        if(float(emit_p[p][i]) > 0):\n",
    "            if len(obs) >= len(InvWords[i]) and InvWords[i] == obs[0:len(InvWords[i])]:\n",
    "                if len(InvWords[i]) > len(beforeToken):\n",
    "                    beforeToken = InvWords[i]\n",
    "                    beforeIndice = i;\n",
    "    if len(obs) == len(beforeToken):\n",
    "        return [beforeToken, beforeIndice, '']\n",
    "    else:\n",
    "        return [beforeToken, beforeIndice, obs[-(len(obs)-len(beforeToken)):]]"
   ]
  },
  {
   "cell_type": "code",
   "execution_count": 6,
   "id": "d5d1d474-4c75-440c-a975-06f908645534",
   "metadata": {},
   "outputs": [],
   "source": [
    "def viterbi(obs, states = states, start_p = start_p, trans_p = trans_p, emit_p = emit_p):\n",
    "    wordsLeft = False\n",
    "    V = [{}]\n",
    "    path = {}\n",
    "    token = {}\n",
    "    state = \"\"\n",
    "    prevState = \"\"\n",
    "    tmp = obs\n",
    "\n",
    "    try:\n",
    "        for s , p in states.items():\n",
    "                bundle = is_Genuine_Word_V2(obs,p, emit_p)\n",
    "                V[0][s] = float(start_p[s]) * float(emit_p[p][bundle[1]])  \n",
    "                path[s] = [s]\n",
    "                token[s] = [bundle[0]]\n",
    "                if len(bundle[2]) < len(tmp):\n",
    "                    tmp = bundle\n",
    "    \n",
    "        if tmp == obs:\n",
    "            raise ValueError(\"Any token has been found in this input string: \"+obs)\n",
    "\n",
    "        t = 1\n",
    "        obs = tmp[2]\n",
    "        bundle = tmp\n",
    "\n",
    "        while bundle[2] != '':\n",
    "            V.append({})\n",
    "            newpath = {}\n",
    "            newtoken= {}\n",
    "            newbundle = []\n",
    "            m = 0\n",
    "            for s , p in states.items():\n",
    "                bundle = is_Genuine_Word_V2(obs,p, emit_p)\n",
    "                if bundle[0] != '':\n",
    "                    if m < len(bundle[0]):\n",
    "                        m = len(bundle[0])\n",
    "                        newbundle = bundle\n",
    "\n",
    "            if newbundle == []:\n",
    "                raise ValueError(\"Any token has been found in this part of input string: \"+obs)\n",
    "\n",
    "            for s , p in states.items():\n",
    "                (prob, state) = max([(V[t-1][s0] * float(trans_p[p0][p]) * float(emit_p[p][newbundle[1]]), s0) for s0 , p0 in states.items()])\n",
    "                V[t][s] = prob\n",
    "                newpath[s] = path[state] + [s]\n",
    "                bundle = newbundle\n",
    "                newtoken[s] = token[state] + [bundle[0]]\n",
    "                \n",
    "            path = newpath\n",
    "            token = newtoken\n",
    "            obs = bundle[2]\n",
    "            \n",
    "            t += 1\n",
    "        \n",
    "        (prob, state) = max([(V[len(V) - 1][s], s) for s, p in states.items()])\n",
    "        return (token[state], path[state])\n",
    "            \n",
    "    except ValueError as e:\n",
    "        print(e)  "
   ]
  },
  {
   "cell_type": "code",
   "execution_count": 7,
   "id": "832b16ae-5a03-43ee-accc-702df231fbef",
   "metadata": {},
   "outputs": [
    {
     "data": {
      "text/plain": [
       "(['', 'に', '住ん', 'で', 'いる', '。'], ['名詞', '名詞', '名詞', '名詞', '動詞', '名詞'])"
      ]
     },
     "execution_count": 7,
     "metadata": {},
     "output_type": "execute_result"
    }
   ],
   "source": [
    "viterbi(\"北海道に住んでいる。\")"
   ]
  }
 ],
 "metadata": {
  "kernelspec": {
   "display_name": "Python 3 (ipykernel)",
   "language": "python",
   "name": "python3"
  },
  "language_info": {
   "codemirror_mode": {
    "name": "ipython",
    "version": 3
   },
   "file_extension": ".py",
   "mimetype": "text/x-python",
   "name": "python",
   "nbconvert_exporter": "python",
   "pygments_lexer": "ipython3",
   "version": "3.12.2"
  }
 },
 "nbformat": 4,
 "nbformat_minor": 5
}
